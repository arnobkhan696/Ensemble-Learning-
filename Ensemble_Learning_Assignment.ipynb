{
  "nbformat": 4,
  "nbformat_minor": 0,
  "metadata": {
    "colab": {
      "provenance": []
    },
    "kernelspec": {
      "name": "python3",
      "display_name": "Python 3"
    },
    "language_info": {
      "name": "python"
    }
  },
  "cells": [
    {
      "cell_type": "markdown",
      "source": [
        "#Theoretical Answer"
      ],
      "metadata": {
        "id": "rhy7wLVbGFNn"
      }
    },
    {
      "cell_type": "markdown",
      "source": [
        "1. Can we use Bagging for regression problems?\n",
        "  - Yes, bagging can be effectively used for regression problems. Bagging (Bootstrap Aggregation) is an ensemble learning technique that can be applied to both classification and regression tasks.\n",
        "\n",
        "2. What is the difference between multiple model training and single model training?\n",
        "  - The multi-model approach is meant to achieve a greater level of accuracy for a set of specific tasks. A single LLM won't be as specialized or as accurate but it will be capable of more tasks.\n",
        "\n",
        "3. Explain the concept of feature randomness in Random Forest?\n",
        "  - In a Random Forest, feature randomness means that when growing each individual decision tree, the algorithm doesn't consider all possible features for splitting the data at each node.\n",
        "\n",
        "4. What is OOB (Out-of-Bag) Score?\n",
        "  - The Out-of-Bag (OOB) score is a validation technique used in ensemble methods like Random Forests to estimate a model's performance on unseen data. It leverages the concept of bagging, where each decision tree in the ensemble is trained on a random subset of the training data with replacement. The OOB score is calculated using the data points that were not included in the training set for each individual tree, effectively acting as a built-in validation set.\n",
        "\n",
        "5. How can you measure the importance of features in a Random Forest model?\n",
        "  - Feature importance in a random forest model can be measured using Gini importance (also known as mean decrease in impurity) or permutation importance. Gini importance is based on how much each feature reduces impurity (like Gini impurity or entropy) in the decision trees of the forest.\n",
        "\n",
        "6. Explain the working principle of a Bagging Classifier.\n",
        "  - A Bagging classifier is an ensemble meta-estimator that fits base classifiers each on random subsets of the original dataset and then aggregate their individual predictions (either by voting or by averaging) to form a final prediction.\n",
        "\n",
        "7. How do you evaluate a Bagging Classifier’s performance?\n",
        "  - A Bagging Classifier's performance can be evaluated using various metrics, including accuracy, precision, recall, F1-score, and ROC AUC, depending on the specific task and data characteristics.\n",
        "\n",
        "8. How does a Bagging Regressor work?\n",
        "  - Bagging Regressor creates an ensemble of multiple base regression models and combines their predictions to produce a final prediction. In Bagging Regressor, the base model is typically a regression algorithm, such as Decision Tree Regressor.\n",
        "\n",
        "9. What is the main advantage of ensemble techniques?\n",
        "  - The primary advantage of ensemble techniques is increased predictive accuracy and robustness. By combining multiple models, ensemble methods can often achieve better performance than any single model alone, and they are also less prone to overfitting and noise in the data.\n",
        "\n",
        "10. What is the main challenge of ensemble methods?\n",
        "   - The primary challenge of ensemble methods is their increased complexity and computational cost compared to using a single model. Building and training multiple models, along with their subsequent aggregation, can be resource-intensive, requiring more time and computational power, especially with large datasets or complex base models.\n",
        "\n",
        "11. Explain the key idea behind ensemble techniques.\n",
        "   - The core idea is that a diverse group of models, even if individually weak, can collectively produce better results than any single model by leveraging each other's strengths and mitigating individual weaknesses.\n",
        "\n",
        "12. What is a Random Forest Classifier?\n",
        "   - A random forest classifier is a machine learning algorithm that uses an ensemble of decision trees to classify data. It works by building multiple decision trees on random subsets of the training data and then combining their predictions, typically through majority voting, to make a final classification.\n",
        "\n",
        "13. What are the main types of ensemble techniques?\n",
        "   - The main types of ensemble techniques in machine learning are bagging, boosting, and stacking.\n",
        "\n",
        "14. What is ensemble learning in machine learning?\n",
        "   - Ensemble learning in machine learning combines the predictions of multiple individual models to create a more robust and accurate predictive model. Instead of relying on a single model, it leverages the collective intelligence of several models to improve performance and reduce errors.\n",
        "\n",
        "15. When should we avoid using ensemble methods?\n",
        "  - Ensemble methods, while powerful, may not always be the best choice. They can be less suitable when computational resources are limited, when data is scarce, or when high interpretability is crucial. If the base models are highly correlated or if the primary goal is to understand the decision-making process of a single model, alternative approaches might be preferred.\n",
        "\n",
        "16. How does Bagging help in reducing overfitting?\n",
        "   - Bagging helps reduce overfitting by averaging predictions from multiple models trained on different subsets of the training data, which in turn reduces the variance of the overall model.\n",
        "\n",
        "17. Why is Random Forest better than a single Decision Tree?\n",
        "   - Random forest is generally better than a single decision tree because it reduces overfitting and improves accuracy through ensemble learning. By combining multiple decision trees, random forests create a more robust and reliable model that generalizes better to unseen data.\n",
        "\n",
        "18. What is the role of bootstrap sampling in Bagging?\n",
        "   - In bagging (Bootstrap Aggregating), bootstrap sampling is used to create multiple subsets of the original training data. These subsets, called bootstrap samples, are created by randomly sampling with replacement from the original dataset.\n",
        "\n",
        "19. What are some real-world applications of ensemble techniques?\n",
        "   - Ensemble techniques, which combine multiple machine learning models to improve accuracy and robustness, have various real-world applications. These include: fraud detection, disease prediction, financial forecasting, and image recognition. By leveraging multiple models, ensemble methods can reduce overfitting, increase accuracy, and provide more reliable predictions in complex scenarios.\n",
        "\n",
        "20. What is the difference between Bagging and Boosting?\n",
        "   - Bagging (Bootstrap Aggregating):\n",
        "\n",
        "     Parallel Model Building: Bagging involves training multiple models simultaneously on different bootstrap samples (random subsets with replacement) of the training data.\n",
        "\n",
        "     Focus on Variance Reduction: By averaging the predictions of these independent models, bagging aims to reduce the variance of the overall prediction, which can help mitigate overfitting.\n",
        "\n",
        "     Examples: Random Forests is a popular example of bagging.\n",
        "\n",
        "   - Boosting:\n",
        "\n",
        "     Sequential Model Building:\n",
        "     Boosting builds models one after another, with each model trained to correct the errors of the previous model.\n",
        "\n",
        "     Focus on Bias Reduction:\n",
        "     This sequential approach helps reduce bias in the overall model by focusing on instances that were misclassified by earlier models.\n",
        "\n",
        "     Examples:\n",
        "     AdaBoost, Gradient Boosting Machines (GBM), XGBoost, LightGBM are examples of boosting algorithms."
      ],
      "metadata": {
        "id": "Ox_-EdW1GUQH"
      }
    },
    {
      "cell_type": "markdown",
      "source": [
        "#Practical Answer"
      ],
      "metadata": {
        "id": "nRqUpcqjTEoh"
      }
    },
    {
      "cell_type": "code",
      "execution_count": 2,
      "metadata": {
        "id": "lQNASq_2GDXE",
        "colab": {
          "base_uri": "https://localhost:8080/"
        },
        "outputId": "1804a615-093f-43be-871a-5266c571357f"
      },
      "outputs": [
        {
          "output_type": "stream",
          "name": "stdout",
          "text": [
            "Bagging Classifier Accuracy: 0.9333\n"
          ]
        }
      ],
      "source": [
        "# 21. Train a Bagging Classifier using Decision Trees on a sample dataset and print model accuracy.\n",
        "\n",
        "from sklearn.datasets import load_iris\n",
        "from sklearn.model_selection import train_test_split\n",
        "from sklearn.tree import DecisionTreeClassifier\n",
        "from sklearn.ensemble import BaggingClassifier\n",
        "from sklearn.metrics import accuracy_score\n",
        "\n",
        "# Load dataset\n",
        "iris = load_iris()\n",
        "X, y = iris.data, iris.target\n",
        "\n",
        "# Split into train and test sets\n",
        "X_train, X_test, y_train, y_test = train_test_split(\n",
        "    X, y, test_size=0.3, random_state=42, stratify=y\n",
        ")\n",
        "\n",
        "# Base estimator: Decision Tree\n",
        "base_dt = DecisionTreeClassifier(random_state=42)\n",
        "\n",
        "# Bagging Classifier\n",
        "bagging_clf = BaggingClassifier(\n",
        "    estimator=base_dt,     # <-- updated argument name\n",
        "    n_estimators=50,\n",
        "    random_state=42\n",
        ")\n",
        "\n",
        "# Train the model\n",
        "bagging_clf.fit(X_train, y_train)\n",
        "\n",
        "# Predict\n",
        "y_pred = bagging_clf.predict(X_test)\n",
        "\n",
        "# Evaluate\n",
        "accuracy = accuracy_score(y_test, y_pred)\n",
        "print(f\"Bagging Classifier Accuracy: {accuracy:.4f}\")"
      ]
    },
    {
      "cell_type": "code",
      "source": [
        "# 22. Train a Bagging Regressor using Decision Trees and evaluate using Mean Squared Error (MSE).\n",
        "\n",
        "from sklearn.datasets import fetch_california_housing\n",
        "from sklearn.model_selection import train_test_split\n",
        "from sklearn.tree import DecisionTreeRegressor\n",
        "from sklearn.ensemble import BaggingRegressor\n",
        "from sklearn.metrics import mean_squared_error\n",
        "\n",
        "# Load dataset\n",
        "data = fetch_california_housing()\n",
        "X, y = data.data, data.target\n",
        "\n",
        "# Split into train/test sets\n",
        "X_train, X_test, y_train, y_test = train_test_split(\n",
        "    X, y, test_size=0.3, random_state=42\n",
        ")\n",
        "\n",
        "# Base estimator: Decision Tree\n",
        "base_dt = DecisionTreeRegressor(random_state=42)\n",
        "\n",
        "# Bagging Regressor\n",
        "bagging_reg = BaggingRegressor(\n",
        "    estimator=base_dt,      # for scikit-learn >=1.2\n",
        "    n_estimators=50,\n",
        "    random_state=42\n",
        ")\n",
        "\n",
        "# Train the model\n",
        "bagging_reg.fit(X_train, y_train)\n",
        "\n",
        "# Predict\n",
        "y_pred = bagging_reg.predict(X_test)\n",
        "\n",
        "# Evaluate\n",
        "mse = mean_squared_error(y_test, y_pred)\n",
        "print(f\"Bagging Regressor Mean Squared Error (MSE): {mse:.4f}\")"
      ],
      "metadata": {
        "colab": {
          "base_uri": "https://localhost:8080/"
        },
        "id": "aPB0cldLISCZ",
        "outputId": "cec74607-ac93-4a3e-92e2-7af6ff48a5e8"
      },
      "execution_count": 3,
      "outputs": [
        {
          "output_type": "stream",
          "name": "stdout",
          "text": [
            "Bagging Regressor Mean Squared Error (MSE): 0.2579\n"
          ]
        }
      ]
    },
    {
      "cell_type": "code",
      "source": [
        "# 23. Train a Random Forest Classifier on the Breast Cancer dataset and print feature importance scores.\n",
        "\n",
        "from sklearn.datasets import load_breast_cancer\n",
        "from sklearn.model_selection import train_test_split\n",
        "from sklearn.ensemble import RandomForestClassifier\n",
        "from sklearn.metrics import accuracy_score\n",
        "import pandas as pd\n",
        "\n",
        "# Load Breast Cancer dataset\n",
        "data = load_breast_cancer()\n",
        "X, y = data.data, data.target\n",
        "feature_names = data.feature_names\n",
        "\n",
        "# Split into train/test sets\n",
        "X_train, X_test, y_train, y_test = train_test_split(\n",
        "    X, y, test_size=0.3, random_state=42, stratify=y\n",
        ")\n",
        "\n",
        "# Random Forest Classifier\n",
        "rf_clf = RandomForestClassifier(\n",
        "    n_estimators=100, random_state=42\n",
        ")\n",
        "\n",
        "# Train the model\n",
        "rf_clf.fit(X_train, y_train)\n",
        "\n",
        "# Predict & evaluate\n",
        "y_pred = rf_clf.predict(X_test)\n",
        "acc = accuracy_score(y_test, y_pred)\n",
        "print(f\"Random Forest Accuracy: {acc:.4f}\\n\")\n",
        "\n",
        "# Feature importances\n",
        "importances = rf_clf.feature_importances_\n",
        "\n",
        "# Print feature importances in descending order\n",
        "importance_df = pd.DataFrame({\n",
        "    'Feature': feature_names,\n",
        "    'Importance': importances\n",
        "}).sort_values(by='Importance', ascending=False)\n",
        "\n",
        "print(\"Feature Importances:\")\n",
        "print(importance_df.to_string(index=False))"
      ],
      "metadata": {
        "colab": {
          "base_uri": "https://localhost:8080/"
        },
        "id": "mng-5aTsK-uw",
        "outputId": "10b06058-4578-4223-a49a-a5432dae94bf"
      },
      "execution_count": 4,
      "outputs": [
        {
          "output_type": "stream",
          "name": "stdout",
          "text": [
            "Random Forest Accuracy: 0.9357\n",
            "\n",
            "Feature Importances:\n",
            "                Feature  Importance\n",
            "   worst concave points    0.158955\n",
            "             worst area    0.146962\n",
            "        worst perimeter    0.085793\n",
            "           worst radius    0.078952\n",
            "            mean radius    0.077714\n",
            "         mean perimeter    0.074234\n",
            "    mean concave points    0.065869\n",
            "         mean concavity    0.054281\n",
            "              mean area    0.041657\n",
            "        worst concavity    0.031362\n",
            "      worst compactness    0.024985\n",
            "             area error    0.019936\n",
            "       worst smoothness    0.014164\n",
            "          worst texture    0.013599\n",
            "       mean compactness    0.013177\n",
            "         worst symmetry    0.012647\n",
            "           radius error    0.011605\n",
            "worst fractal dimension    0.009073\n",
            "        mean smoothness    0.008625\n",
            "        perimeter error    0.008540\n",
            "           mean texture    0.008158\n",
            "fractal dimension error    0.006145\n",
            "       smoothness error    0.005792\n",
            "      compactness error    0.005754\n",
            "        concavity error    0.004969\n",
            "         symmetry error    0.004008\n",
            "          mean symmetry    0.003980\n",
            "          texture error    0.003699\n",
            "   concave points error    0.003363\n",
            " mean fractal dimension    0.001999\n"
          ]
        }
      ]
    },
    {
      "cell_type": "code",
      "source": [
        "# 24. Train a Random Forest Regressor and compare its performance with a single Decision Tree.\n",
        "\n",
        "from sklearn.datasets import fetch_california_housing\n",
        "from sklearn.model_selection import train_test_split\n",
        "from sklearn.tree import DecisionTreeRegressor\n",
        "from sklearn.ensemble import RandomForestRegressor\n",
        "from sklearn.metrics import mean_squared_error\n",
        "\n",
        "# Load dataset\n",
        "data = fetch_california_housing()\n",
        "X, y = data.data, data.target\n",
        "\n",
        "# Train/test split\n",
        "X_train, X_test, y_train, y_test = train_test_split(\n",
        "    X, y, test_size=0.3, random_state=42\n",
        ")\n",
        "\n",
        "# Single Decision Tree Regressor\n",
        "dt_reg = DecisionTreeRegressor(random_state=42)\n",
        "dt_reg.fit(X_train, y_train)\n",
        "y_pred_dt = dt_reg.predict(X_test)\n",
        "\n",
        "# Random Forest Regressor\n",
        "rf_reg = RandomForestRegressor(\n",
        "    n_estimators=100, random_state=42\n",
        ")\n",
        "rf_reg.fit(X_train, y_train)\n",
        "y_pred_rf = rf_reg.predict(X_test)\n",
        "\n",
        "# Evaluate\n",
        "mse_dt = mean_squared_error(y_test, y_pred_dt)\n",
        "mse_rf = mean_squared_error(y_test, y_pred_rf)\n",
        "\n",
        "print(f\"Decision Tree Regressor MSE: {mse_dt:.4f}\")\n",
        "print(f\"Random Forest Regressor MSE: {mse_rf:.4f}\")\n",
        "\n",
        "if mse_rf < mse_dt:\n",
        "    print(\"\\n✅ Random Forest performs better than a single Decision Tree.\")\n",
        "else:\n",
        "    print(\"\\n⚠️ Decision Tree performs better (unexpected on this dataset).\")"
      ],
      "metadata": {
        "colab": {
          "base_uri": "https://localhost:8080/"
        },
        "id": "hcGtLFD9LQmp",
        "outputId": "e34d8fb7-e029-42d3-9abf-81796791f9fe"
      },
      "execution_count": 5,
      "outputs": [
        {
          "output_type": "stream",
          "name": "stdout",
          "text": [
            "Decision Tree Regressor MSE: 0.5280\n",
            "Random Forest Regressor MSE: 0.2565\n",
            "\n",
            "✅ Random Forest performs better than a single Decision Tree.\n"
          ]
        }
      ]
    },
    {
      "cell_type": "code",
      "source": [
        "# 25. Compute the Out-of-Bag (OOB) Score for a Random Forest Classifier.\n",
        "\n",
        "from sklearn.datasets import load_breast_cancer\n",
        "from sklearn.ensemble import RandomForestClassifier\n",
        "\n",
        "# Load Breast Cancer dataset\n",
        "data = load_breast_cancer()\n",
        "X, y = data.data, data.target\n",
        "\n",
        "# Random Forest Classifier with OOB enabled\n",
        "rf_clf = RandomForestClassifier(\n",
        "    n_estimators=100,\n",
        "    oob_score=True,\n",
        "    random_state=42\n",
        ")\n",
        "\n",
        "# Train the model\n",
        "rf_clf.fit(X, y)\n",
        "\n",
        "# OOB score\n",
        "print(f\"OOB Score: {rf_clf.oob_score_:.4f}\")"
      ],
      "metadata": {
        "colab": {
          "base_uri": "https://localhost:8080/"
        },
        "id": "-c68Wb6VM19_",
        "outputId": "bf433242-9a7c-4b4a-edb1-2fc96cb780d3"
      },
      "execution_count": 6,
      "outputs": [
        {
          "output_type": "stream",
          "name": "stdout",
          "text": [
            "OOB Score: 0.9613\n"
          ]
        }
      ]
    },
    {
      "cell_type": "code",
      "source": [
        "# 26. Train a Bagging Classifier using SVM as a base estimator and print accuracy.\n",
        "\n",
        "from sklearn.datasets import load_iris\n",
        "from sklearn.model_selection import train_test_split\n",
        "from sklearn.ensemble import BaggingClassifier\n",
        "from sklearn.svm import SVC\n",
        "from sklearn.metrics import accuracy_score\n",
        "\n",
        "# Load dataset\n",
        "X, y = load_iris(return_X_y=True)\n",
        "\n",
        "# Split into train/test\n",
        "X_train, X_test, y_train, y_test = train_test_split(\n",
        "    X, y, test_size=0.2, random_state=42\n",
        ")\n",
        "\n",
        "# Define base estimator: Support Vector Classifier\n",
        "svm = SVC(kernel='rbf', C=1.0, gamma='scale')\n",
        "\n",
        "# Define Bagging Classifier with SVM as base\n",
        "bagging_clf = BaggingClassifier(\n",
        "    estimator=svm,     # <-- updated here\n",
        "    n_estimators=10,\n",
        "    max_samples=0.8,\n",
        "    max_features=1.0,\n",
        "    bootstrap=True,\n",
        "    random_state=42\n",
        ")\n",
        "\n",
        "# Train\n",
        "bagging_clf.fit(X_train, y_train)\n",
        "\n",
        "# Predict\n",
        "y_pred = bagging_clf.predict(X_test)\n",
        "\n",
        "# Accuracy\n",
        "acc = accuracy_score(y_test, y_pred)\n",
        "print(f\"Bagging Classifier with SVM Accuracy: {acc:.4f}\")"
      ],
      "metadata": {
        "colab": {
          "base_uri": "https://localhost:8080/"
        },
        "id": "4MXIiigBNW8Z",
        "outputId": "f5bb593e-83a2-4af2-85ba-b179a9cad5b1"
      },
      "execution_count": 8,
      "outputs": [
        {
          "output_type": "stream",
          "name": "stdout",
          "text": [
            "Bagging Classifier with SVM Accuracy: 1.0000\n"
          ]
        }
      ]
    },
    {
      "cell_type": "code",
      "source": [
        "# 27. Train a Random Forest Classifier with different numbers of trees and compare accuracy.\n",
        "\n",
        "from sklearn.datasets import load_iris\n",
        "from sklearn.model_selection import train_test_split\n",
        "from sklearn.ensemble import RandomForestClassifier\n",
        "from sklearn.metrics import accuracy_score\n",
        "\n",
        "# Load dataset\n",
        "X, y = load_iris(return_X_y=True)\n",
        "\n",
        "# Train/test split\n",
        "X_train, X_test, y_train, y_test = train_test_split(\n",
        "    X, y, test_size=0.2, random_state=42\n",
        ")\n",
        "\n",
        "# Different numbers of trees\n",
        "n_trees_list = [1, 10, 50, 100, 200]\n",
        "\n",
        "print(f\"{'n_estimators':>12} | {'Accuracy':>9}\")\n",
        "print(\"-\" * 25)\n",
        "\n",
        "for n_trees in n_trees_list:\n",
        "    rf = RandomForestClassifier(\n",
        "        n_estimators=n_trees,\n",
        "        random_state=42\n",
        "    )\n",
        "    rf.fit(X_train, y_train)\n",
        "    y_pred = rf.predict(X_test)\n",
        "    acc = accuracy_score(y_test, y_pred)\n",
        "    print(f\"{n_trees:12} | {acc:9.4f}\")"
      ],
      "metadata": {
        "colab": {
          "base_uri": "https://localhost:8080/"
        },
        "id": "uwF36uyYQXa4",
        "outputId": "506157aa-340a-41d4-8451-65f8c25691d1"
      },
      "execution_count": 9,
      "outputs": [
        {
          "output_type": "stream",
          "name": "stdout",
          "text": [
            "n_estimators |  Accuracy\n",
            "-------------------------\n",
            "           1 |    1.0000\n",
            "          10 |    1.0000\n",
            "          50 |    1.0000\n",
            "         100 |    1.0000\n",
            "         200 |    1.0000\n"
          ]
        }
      ]
    },
    {
      "cell_type": "code",
      "source": [
        "# 28. Train a Bagging Classifier using Logistic Regression as a base estimator and print AUC score.\n",
        "\n",
        "from sklearn.datasets import load_breast_cancer\n",
        "from sklearn.model_selection import train_test_split\n",
        "from sklearn.ensemble import BaggingClassifier\n",
        "from sklearn.linear_model import LogisticRegression\n",
        "from sklearn.metrics import roc_auc_score\n",
        "\n",
        "# Load dataset\n",
        "X, y = load_breast_cancer(return_X_y=True)\n",
        "\n",
        "# Train/test split\n",
        "X_train, X_test, y_train, y_test = train_test_split(\n",
        "    X, y, test_size=0.2, random_state=42\n",
        ")\n",
        "\n",
        "# Base estimator: Logistic Regression\n",
        "logreg = LogisticRegression(solver='liblinear', max_iter=500)\n",
        "\n",
        "# Bagging Classifier\n",
        "bagging_clf = BaggingClassifier(\n",
        "    estimator=logreg,    # for sklearn ≥1.2\n",
        "    n_estimators=50,\n",
        "    max_samples=0.8,\n",
        "    bootstrap=True,\n",
        "    random_state=42\n",
        ")\n",
        "\n",
        "# Train\n",
        "bagging_clf.fit(X_train, y_train)\n",
        "\n",
        "# Predict probabilities\n",
        "y_proba = bagging_clf.predict_proba(X_test)[:, 1]\n",
        "\n",
        "# Compute AUC\n",
        "auc = roc_auc_score(y_test, y_proba)\n",
        "print(f\"Bagging Classifier with Logistic Regression AUC: {auc:.4f}\")"
      ],
      "metadata": {
        "colab": {
          "base_uri": "https://localhost:8080/"
        },
        "id": "sv8wPFwYQrXn",
        "outputId": "ee3ec483-9bf5-4ea4-f5ea-d0f519801fd7"
      },
      "execution_count": 10,
      "outputs": [
        {
          "output_type": "stream",
          "name": "stdout",
          "text": [
            "Bagging Classifier with Logistic Regression AUC: 0.9977\n"
          ]
        }
      ]
    },
    {
      "cell_type": "code",
      "source": [
        "# 29. Train a Random Forest Regressor and analyze feature importance scores.\n",
        "\n",
        "from sklearn.datasets import fetch_california_housing\n",
        "from sklearn.model_selection import train_test_split\n",
        "from sklearn.ensemble import RandomForestRegressor\n",
        "import pandas as pd\n",
        "\n",
        "# Load dataset\n",
        "data = fetch_california_housing()\n",
        "X = pd.DataFrame(data.data, columns=data.feature_names)\n",
        "y = data.target\n",
        "\n",
        "# Train/test split\n",
        "X_train, X_test, y_train, y_test = train_test_split(\n",
        "    X, y, test_size=0.2, random_state=42\n",
        ")\n",
        "\n",
        "# Train Random Forest Regressor\n",
        "rf_reg = RandomForestRegressor(\n",
        "    n_estimators=100,\n",
        "    random_state=42\n",
        ")\n",
        "rf_reg.fit(X_train, y_train)\n",
        "\n",
        "# Get feature importances\n",
        "importances = rf_reg.feature_importances_\n",
        "\n",
        "# Put into a DataFrame and sort\n",
        "feat_imp_df = pd.DataFrame({\n",
        "    'Feature': X.columns,\n",
        "    'Importance': importances\n",
        "}).sort_values(by='Importance', ascending=False)\n",
        "\n",
        "print(\"Feature Importance Scores:\")\n",
        "print(feat_imp_df)"
      ],
      "metadata": {
        "colab": {
          "base_uri": "https://localhost:8080/"
        },
        "id": "CkBjbZdYQ2SY",
        "outputId": "b7fdde28-4b78-4e46-8e44-9090fcb1a806"
      },
      "execution_count": 11,
      "outputs": [
        {
          "output_type": "stream",
          "name": "stdout",
          "text": [
            "Feature Importance Scores:\n",
            "      Feature  Importance\n",
            "0      MedInc    0.524871\n",
            "5    AveOccup    0.138443\n",
            "6    Latitude    0.088936\n",
            "7   Longitude    0.088629\n",
            "1    HouseAge    0.054593\n",
            "2    AveRooms    0.044272\n",
            "4  Population    0.030650\n",
            "3   AveBedrms    0.029606\n"
          ]
        }
      ]
    },
    {
      "cell_type": "code",
      "source": [
        "# 30. Train an ensemble model using both Bagging and Random Forest and compare accuracy.\n",
        "\n",
        "from sklearn.datasets import load_iris\n",
        "from sklearn.model_selection import train_test_split\n",
        "from sklearn.ensemble import BaggingClassifier, RandomForestClassifier\n",
        "from sklearn.tree import DecisionTreeClassifier\n",
        "from sklearn.metrics import accuracy_score\n",
        "\n",
        "# Load dataset\n",
        "X, y = load_iris(return_X_y=True)\n",
        "\n",
        "# Split into train/test\n",
        "X_train, X_test, y_train, y_test = train_test_split(\n",
        "    X, y, test_size=0.2, random_state=42\n",
        ")\n",
        "\n",
        "# Base estimator for Bagging: Decision Tree\n",
        "dtree = DecisionTreeClassifier(random_state=42)\n",
        "\n",
        "# Bagging Classifier\n",
        "bagging_clf = BaggingClassifier(\n",
        "    estimator=dtree,\n",
        "    n_estimators=50,\n",
        "    max_samples=0.8,\n",
        "    bootstrap=True,\n",
        "    random_state=42\n",
        ")\n",
        "\n",
        "# Random Forest Classifier\n",
        "rf_clf = RandomForestClassifier(\n",
        "    n_estimators=50,\n",
        "    random_state=42\n",
        ")\n",
        "\n",
        "# Train Bagging\n",
        "bagging_clf.fit(X_train, y_train)\n",
        "y_pred_bag = bagging_clf.predict(X_test)\n",
        "acc_bag = accuracy_score(y_test, y_pred_bag)\n",
        "\n",
        "# Train Random Forest\n",
        "rf_clf.fit(X_train, y_train)\n",
        "y_pred_rf = rf_clf.predict(X_test)\n",
        "acc_rf = accuracy_score(y_test, y_pred_rf)\n",
        "\n",
        "# Compare\n",
        "print(f\"Bagging Classifier Accuracy:       {acc_bag:.4f}\")\n",
        "print(f\"Random Forest Classifier Accuracy: {acc_rf:.4f}\")"
      ],
      "metadata": {
        "colab": {
          "base_uri": "https://localhost:8080/"
        },
        "id": "uhHkrEgGRDnn",
        "outputId": "32b07516-024d-450e-db9f-2ce45570b46d"
      },
      "execution_count": 12,
      "outputs": [
        {
          "output_type": "stream",
          "name": "stdout",
          "text": [
            "Bagging Classifier Accuracy:       1.0000\n",
            "Random Forest Classifier Accuracy: 1.0000\n"
          ]
        }
      ]
    },
    {
      "cell_type": "code",
      "source": [
        "# 31. Train a Random Forest Classifier and tune hyperparameters using GridSearchCV.\n",
        "\n",
        "from sklearn.datasets import load_iris\n",
        "from sklearn.model_selection import train_test_split, GridSearchCV\n",
        "from sklearn.ensemble import RandomForestClassifier\n",
        "from sklearn.metrics import accuracy_score\n",
        "\n",
        "# Load dataset\n",
        "X, y = load_iris(return_X_y=True)\n",
        "\n",
        "# Split into train/test\n",
        "X_train, X_test, y_train, y_test = train_test_split(\n",
        "    X, y, test_size=0.2, random_state=42\n",
        ")\n",
        "\n",
        "# Define the model\n",
        "rf = RandomForestClassifier(random_state=42)\n",
        "\n",
        "# Define hyperparameter grid\n",
        "param_grid = {\n",
        "    'n_estimators': [50, 100, 200],\n",
        "    'max_depth': [None, 5, 10],\n",
        "    'max_features': ['sqrt', 'log2']\n",
        "}\n",
        "\n",
        "# Setup GridSearchCV\n",
        "grid_search = GridSearchCV(\n",
        "    estimator=rf,\n",
        "    param_grid=param_grid,\n",
        "    cv=5,\n",
        "    scoring='accuracy',\n",
        "    n_jobs=-1\n",
        ")\n",
        "\n",
        "# Fit grid search\n",
        "grid_search.fit(X_train, y_train)\n",
        "\n",
        "# Best parameters\n",
        "print(\"Best Parameters from GridSearchCV:\")\n",
        "print(grid_search.best_params_)\n",
        "\n",
        "# Predict on test set\n",
        "best_rf = grid_search.best_estimator_\n",
        "y_pred = best_rf.predict(X_test)\n",
        "\n",
        "# Accuracy\n",
        "acc = accuracy_score(y_test, y_pred)\n",
        "print(f\"Test set accuracy with tuned RF: {acc:.4f}\")"
      ],
      "metadata": {
        "colab": {
          "base_uri": "https://localhost:8080/"
        },
        "id": "pTr9VHOSRQ2H",
        "outputId": "ec313e22-5a3f-4af0-8c97-4c54d4b6267a"
      },
      "execution_count": 13,
      "outputs": [
        {
          "output_type": "stream",
          "name": "stdout",
          "text": [
            "Best Parameters from GridSearchCV:\n",
            "{'max_depth': None, 'max_features': 'sqrt', 'n_estimators': 200}\n",
            "Test set accuracy with tuned RF: 1.0000\n"
          ]
        }
      ]
    },
    {
      "cell_type": "code",
      "source": [
        "# 32. Train a Bagging Regressor with different numbers of base estimators and compare performance\n",
        "\n",
        "from sklearn.datasets import fetch_california_housing\n",
        "from sklearn.model_selection import train_test_split\n",
        "from sklearn.ensemble import BaggingRegressor\n",
        "from sklearn.tree import DecisionTreeRegressor\n",
        "from sklearn.metrics import mean_squared_error, r2_score\n",
        "\n",
        "import numpy as np\n",
        "\n",
        "# Load dataset\n",
        "X, y = fetch_california_housing(return_X_y=True)\n",
        "\n",
        "# Train/test split\n",
        "X_train, X_test, y_train, y_test = train_test_split(\n",
        "    X, y, test_size=0.2, random_state=42\n",
        ")\n",
        "\n",
        "# Different numbers of estimators to try\n",
        "n_estimators_list = [1, 10, 50, 100, 200]\n",
        "\n",
        "print(f\"{'n_estimators':>12} | {'MSE':>12} | {'R² Score':>9}\")\n",
        "print(\"-\" * 40)\n",
        "\n",
        "for n_estimators in n_estimators_list:\n",
        "    bagging_reg = BaggingRegressor(\n",
        "        estimator=DecisionTreeRegressor(),\n",
        "        n_estimators=n_estimators,\n",
        "        max_samples=0.8,\n",
        "        bootstrap=True,\n",
        "        random_state=42,\n",
        "        n_jobs=-1\n",
        "    )\n",
        "    bagging_reg.fit(X_train, y_train)\n",
        "    y_pred = bagging_reg.predict(X_test)\n",
        "\n",
        "    mse = mean_squared_error(y_test, y_pred)\n",
        "    r2 = r2_score(y_test, y_pred)\n",
        "\n",
        "    print(f\"{n_estimators:12} | {mse:12.4f} | {r2:9.4f}\")"
      ],
      "metadata": {
        "colab": {
          "base_uri": "https://localhost:8080/"
        },
        "id": "LhXckOs9Rbzn",
        "outputId": "1d333432-dd8e-49cc-c33a-9fb0ee701602"
      },
      "execution_count": 14,
      "outputs": [
        {
          "output_type": "stream",
          "name": "stdout",
          "text": [
            "n_estimators |          MSE |  R² Score\n",
            "----------------------------------------\n",
            "           1 |       0.6112 |    0.5336\n",
            "          10 |       0.2936 |    0.7759\n",
            "          50 |       0.2643 |    0.7983\n",
            "         100 |       0.2599 |    0.8017\n",
            "         200 |       0.2572 |    0.8037\n"
          ]
        }
      ]
    },
    {
      "cell_type": "code",
      "source": [
        "# 33. Train a Random Forest Classifier and analyze misclassified samples.\n",
        "\n",
        "from sklearn.datasets import load_iris\n",
        "from sklearn.model_selection import train_test_split\n",
        "from sklearn.ensemble import RandomForestClassifier\n",
        "from sklearn.metrics import accuracy_score\n",
        "import pandas as pd\n",
        "\n",
        "# Load dataset\n",
        "iris = load_iris()\n",
        "X = iris.data\n",
        "y = iris.target\n",
        "\n",
        "# Train/test split\n",
        "X_train, X_test, y_train, y_test = train_test_split(\n",
        "    X, y, test_size=0.2, random_state=42\n",
        ")\n",
        "\n",
        "# Train Random Forest\n",
        "rf_clf = RandomForestClassifier(\n",
        "    n_estimators=100, random_state=42\n",
        ")\n",
        "rf_clf.fit(X_train, y_train)\n",
        "\n",
        "# Predict\n",
        "y_pred = rf_clf.predict(X_test)\n",
        "\n",
        "# Accuracy\n",
        "acc = accuracy_score(y_test, y_pred)\n",
        "print(f\"Test set accuracy: {acc:.4f}\")\n",
        "\n",
        "# Find misclassified samples\n",
        "misclassified_idx = (y_pred != y_test)\n",
        "\n",
        "# Prepare DataFrame of misclassified samples\n",
        "misclassified_df = pd.DataFrame(\n",
        "    X_test[misclassified_idx],\n",
        "    columns=iris.feature_names\n",
        ")\n",
        "misclassified_df['True Label'] = y_test[misclassified_idx]\n",
        "misclassified_df['Predicted Label'] = y_pred[misclassified_idx]\n",
        "\n",
        "print(\"\\nMisclassified samples:\")\n",
        "print(misclassified_df)"
      ],
      "metadata": {
        "colab": {
          "base_uri": "https://localhost:8080/"
        },
        "id": "iJlX6MWQRqHR",
        "outputId": "f6c4cdc3-9d85-4d49-a17e-abdd68144b1f"
      },
      "execution_count": 15,
      "outputs": [
        {
          "output_type": "stream",
          "name": "stdout",
          "text": [
            "Test set accuracy: 1.0000\n",
            "\n",
            "Misclassified samples:\n",
            "Empty DataFrame\n",
            "Columns: [sepal length (cm), sepal width (cm), petal length (cm), petal width (cm), True Label, Predicted Label]\n",
            "Index: []\n"
          ]
        }
      ]
    },
    {
      "cell_type": "code",
      "source": [
        "# 34. Train a Bagging Classifier and compare its performance with a single Decision Tree Classifier.\n",
        "\n",
        "from sklearn.datasets import load_iris\n",
        "from sklearn.model_selection import train_test_split\n",
        "from sklearn.tree import DecisionTreeClassifier\n",
        "from sklearn.ensemble import BaggingClassifier\n",
        "from sklearn.metrics import accuracy_score\n",
        "\n",
        "# Load dataset\n",
        "X, y = load_iris(return_X_y=True)\n",
        "\n",
        "# Split into train/test\n",
        "X_train, X_test, y_train, y_test = train_test_split(\n",
        "    X, y, test_size=0.2, random_state=42\n",
        ")\n",
        "\n",
        "# Train single Decision Tree\n",
        "dt_clf = DecisionTreeClassifier(random_state=42)\n",
        "dt_clf.fit(X_train, y_train)\n",
        "y_pred_dt = dt_clf.predict(X_test)\n",
        "acc_dt = accuracy_score(y_test, y_pred_dt)\n",
        "\n",
        "# Train Bagging Classifier with Decision Trees\n",
        "bagging_clf = BaggingClassifier(\n",
        "    estimator=DecisionTreeClassifier(),\n",
        "    n_estimators=50,\n",
        "    max_samples=0.8,\n",
        "    bootstrap=True,\n",
        "    random_state=42\n",
        ")\n",
        "bagging_clf.fit(X_train, y_train)\n",
        "y_pred_bag = bagging_clf.predict(X_test)\n",
        "acc_bag = accuracy_score(y_test, y_pred_bag)\n",
        "\n",
        "# Compare\n",
        "print(f\"Single Decision Tree Accuracy: {acc_dt:.4f}\")\n",
        "print(f\"Bagging Classifier Accuracy:   {acc_bag:.4f}\")"
      ],
      "metadata": {
        "colab": {
          "base_uri": "https://localhost:8080/"
        },
        "id": "_u8uajNSR5Ow",
        "outputId": "55109107-df80-48a9-d299-5b1e95015836"
      },
      "execution_count": 16,
      "outputs": [
        {
          "output_type": "stream",
          "name": "stdout",
          "text": [
            "Single Decision Tree Accuracy: 1.0000\n",
            "Bagging Classifier Accuracy:   1.0000\n"
          ]
        }
      ]
    },
    {
      "cell_type": "code",
      "source": [
        "# 35. Train a Random Forest Classifier and visualize the confusion matrix.\n",
        "\n",
        "from sklearn.datasets import load_iris\n",
        "from sklearn.model_selection import train_test_split\n",
        "from sklearn.ensemble import RandomForestClassifier\n",
        "from sklearn.metrics import confusion_matrix, accuracy_score\n",
        "import seaborn as sns\n",
        "import matplotlib.pyplot as plt\n",
        "\n",
        "# Load dataset\n",
        "X, y = load_iris(return_X_y=True)\n",
        "\n",
        "# Train/test split\n",
        "X_train, X_test, y_train, y_test = train_test_split(\n",
        "    X, y, test_size=0.2, random_state=42\n",
        ")\n",
        "\n",
        "# Train Random Forest\n",
        "rf_clf = RandomForestClassifier(\n",
        "    n_estimators=100,\n",
        "    random_state=42\n",
        ")\n",
        "rf_clf.fit(X_train, y_train)\n",
        "\n",
        "# Predict\n",
        "y_pred = rf_clf.predict(X_test)\n",
        "\n",
        "# Accuracy\n",
        "acc = accuracy_score(y_test, y_pred)\n",
        "print(f\"Test set accuracy: {acc:.4f}\")\n",
        "\n",
        "# Confusion Matrix\n",
        "cm = confusion_matrix(y_test, y_pred)\n",
        "\n",
        "# Plot Confusion Matrix\n",
        "plt.figure(figsize=(6, 4))\n",
        "sns.heatmap(cm, annot=True, fmt='d', cmap='Blues',\n",
        "            xticklabels=load_iris().target_names,\n",
        "            yticklabels=load_iris().target_names)\n",
        "plt.xlabel('Predicted')\n",
        "plt.ylabel('True')\n",
        "plt.title('Random Forest Confusion Matrix')\n",
        "plt.show()"
      ],
      "metadata": {
        "colab": {
          "base_uri": "https://localhost:8080/",
          "height": 427
        },
        "id": "o8hq_4w_SDiv",
        "outputId": "a661b7f1-c915-40b5-dbb1-74444ed4ac5e"
      },
      "execution_count": 17,
      "outputs": [
        {
          "output_type": "stream",
          "name": "stdout",
          "text": [
            "Test set accuracy: 1.0000\n"
          ]
        },
        {
          "output_type": "display_data",
          "data": {
            "text/plain": [
              "<Figure size 600x400 with 2 Axes>"
            ],
            "image/png": "[encoded data removed]"
          },
          "metadata": {}
        }
      ]
    },
    {
      "cell_type": "code",
      "source": [
        "# 36. Train a Stacking Classifier using Decision Trees, SVM, and Logistic Regression, and compare accuracy.\n",
        "\n",
        "from sklearn.datasets import load_iris\n",
        "from sklearn.model_selection import train_test_split\n",
        "from sklearn.tree import DecisionTreeClassifier\n",
        "from sklearn.svm import SVC\n",
        "from sklearn.linear_model import LogisticRegression\n",
        "from sklearn.ensemble import StackingClassifier\n",
        "from sklearn.metrics import accuracy_score\n",
        "\n",
        "# Load dataset\n",
        "X, y = load_iris(return_X_y=True)\n",
        "\n",
        "# Train/test split\n",
        "X_train, X_test, y_train, y_test = train_test_split(\n",
        "    X, y, test_size=0.2, random_state=42\n",
        ")\n",
        "\n",
        "# Base learners\n",
        "dt_clf = DecisionTreeClassifier(random_state=42)\n",
        "svm_clf = SVC(probability=True, random_state=42)\n",
        "logreg_clf = LogisticRegression(max_iter=500, random_state=42)\n",
        "\n",
        "# Stacking Classifier\n",
        "stacking_clf = StackingClassifier(\n",
        "    estimators=[\n",
        "        ('dt', dt_clf),\n",
        "        ('svm', svm_clf),\n",
        "        ('lr', logreg_clf)\n",
        "    ],\n",
        "    final_estimator=LogisticRegression(max_iter=500, random_state=42),\n",
        "    cv=5,\n",
        "    n_jobs=-1\n",
        ")\n",
        "\n",
        "# Fit and evaluate each individual model\n",
        "models = {\n",
        "    'Decision Tree': dt_clf,\n",
        "    'SVM': svm_clf,\n",
        "    'Logistic Regression': logreg_clf,\n",
        "    'Stacking Classifier': stacking_clf\n",
        "}\n",
        "\n",
        "print(f\"{'Model':<25} | {'Accuracy'}\")\n",
        "print(\"-\" * 40)\n",
        "\n",
        "for name, model in models.items():\n",
        "    model.fit(X_train, y_train)\n",
        "    y_pred = model.predict(X_test)\n",
        "    acc = accuracy_score(y_test, y_pred)\n",
        "    print(f\"{name:<25} | {acc:.4f}\")"
      ],
      "metadata": {
        "colab": {
          "base_uri": "https://localhost:8080/"
        },
        "id": "vDzFP8u1SNbP",
        "outputId": "7afaddee-1134-43ab-ab06-77fcbb14156e"
      },
      "execution_count": 18,
      "outputs": [
        {
          "output_type": "stream",
          "name": "stdout",
          "text": [
            "Model                     | Accuracy\n",
            "----------------------------------------\n",
            "Decision Tree             | 1.0000\n",
            "SVM                       | 1.0000\n",
            "Logistic Regression       | 1.0000\n",
            "Stacking Classifier       | 1.0000\n"
          ]
        }
      ]
    },
    {
      "cell_type": "code",
      "source": [
        "# 37. Train a Random Forest Classifier and print the top 5 most important features.\n",
        "\n",
        "from sklearn.datasets import load_breast_cancer\n",
        "from sklearn.model_selection import train_test_split\n",
        "from sklearn.ensemble import RandomForestClassifier\n",
        "import pandas as pd\n",
        "\n",
        "# Load dataset\n",
        "data = load_breast_cancer()\n",
        "X = pd.DataFrame(data.data, columns=data.feature_names)\n",
        "y = data.target\n",
        "\n",
        "# Train/test split\n",
        "X_train, X_test, y_train, y_test = train_test_split(\n",
        "    X, y, test_size=0.2, random_state=42\n",
        ")\n",
        "\n",
        "# Train Random Forest\n",
        "rf_clf = RandomForestClassifier(\n",
        "    n_estimators=100,\n",
        "    random_state=42\n",
        ")\n",
        "rf_clf.fit(X_train, y_train)\n",
        "\n",
        "# Get feature importances\n",
        "importances = rf_clf.feature_importances_\n",
        "\n",
        "# Create DataFrame of features & importance\n",
        "feat_imp_df = pd.DataFrame({\n",
        "    'Feature': X.columns,\n",
        "    'Importance': importances\n",
        "})\n",
        "\n",
        "# Sort and display top 5\n",
        "top5 = feat_imp_df.sort_values(by='Importance', ascending=False).head(5)\n",
        "print(\"Top 5 most important features:\")\n",
        "print(top5)"
      ],
      "metadata": {
        "colab": {
          "base_uri": "https://localhost:8080/"
        },
        "id": "EInkHU74SYxB",
        "outputId": "c211888c-7755-4df2-b31d-4010493c7e1e"
      },
      "execution_count": 19,
      "outputs": [
        {
          "output_type": "stream",
          "name": "stdout",
          "text": [
            "Top 5 most important features:\n",
            "                 Feature  Importance\n",
            "23            worst area    0.153892\n",
            "27  worst concave points    0.144663\n",
            "7    mean concave points    0.106210\n",
            "20          worst radius    0.077987\n",
            "6         mean concavity    0.068001\n"
          ]
        }
      ]
    },
    {
      "cell_type": "code",
      "source": [
        "# 38. Train a Bagging Classifier and evaluate performance using Precision, Recall, and F1-score.\n",
        "\n",
        "from sklearn.datasets import load_breast_cancer\n",
        "from sklearn.model_selection import train_test_split\n",
        "from sklearn.ensemble import BaggingClassifier\n",
        "from sklearn.tree import DecisionTreeClassifier\n",
        "from sklearn.metrics import precision_score, recall_score, f1_score\n",
        "\n",
        "# Load dataset\n",
        "X, y = load_breast_cancer(return_X_y=True)\n",
        "\n",
        "# Train/test split\n",
        "X_train, X_test, y_train, y_test = train_test_split(\n",
        "    X, y, test_size=0.2, random_state=42\n",
        ")\n",
        "\n",
        "# Bagging Classifier with Decision Trees\n",
        "bagging_clf = BaggingClassifier(\n",
        "    estimator=DecisionTreeClassifier(),\n",
        "    n_estimators=50,\n",
        "    max_samples=0.8,\n",
        "    bootstrap=True,\n",
        "    random_state=42\n",
        ")\n",
        "\n",
        "# Train\n",
        "bagging_clf.fit(X_train, y_train)\n",
        "\n",
        "# Predict\n",
        "y_pred = bagging_clf.predict(X_test)\n",
        "\n",
        "# Evaluate\n",
        "precision = precision_score(y_test, y_pred)\n",
        "recall = recall_score(y_test, y_pred)\n",
        "f1 = f1_score(y_test, y_pred)\n",
        "\n",
        "print(f\"Precision: {precision:.4f}\")\n",
        "print(f\"Recall:    {recall:.4f}\")\n",
        "print(f\"F1-score:  {f1:.4f}\")"
      ],
      "metadata": {
        "colab": {
          "base_uri": "https://localhost:8080/"
        },
        "id": "I2yLHeypShkI",
        "outputId": "6817fec6-d9b4-4ae2-fa63-c0ed4dde01a5"
      },
      "execution_count": 20,
      "outputs": [
        {
          "output_type": "stream",
          "name": "stdout",
          "text": [
            "Precision: 0.9583\n",
            "Recall:    0.9718\n",
            "F1-score:  0.9650\n"
          ]
        }
      ]
    },
    {
      "cell_type": "code",
      "source": [
        "# 39. Train a Random Forest Classifier and analyze the effect of max_depth on accuracy.\n",
        "\n",
        "from sklearn.datasets import load_iris\n",
        "from sklearn.model_selection import train_test_split\n",
        "from sklearn.ensemble import RandomForestClassifier\n",
        "from sklearn.metrics import accuracy_score\n",
        "import matplotlib.pyplot as plt\n",
        "\n",
        "# Load dataset\n",
        "X, y = load_iris(return_X_y=True)\n",
        "\n",
        "# Train/test split\n",
        "X_train, X_test, y_train, y_test = train_test_split(\n",
        "    X, y, test_size=0.2, random_state=42\n",
        ")\n",
        "\n",
        "# Range of max_depth values to test\n",
        "max_depth_values = [None, 1, 2, 3, 5, 10]\n",
        "\n",
        "results = []\n",
        "\n",
        "print(f\"{'max_depth':>10} | {'Accuracy'}\")\n",
        "print(\"-\" * 25)\n",
        "\n",
        "for depth in max_depth_values:\n",
        "    rf_clf = RandomForestClassifier(\n",
        "        n_estimators=100,\n",
        "        max_depth=depth,\n",
        "        random_state=42\n",
        "    )\n",
        "    rf_clf.fit(X_train, y_train)\n",
        "    y_pred = rf_clf.predict(X_test)\n",
        "    acc = accuracy_score(y_test, y_pred)\n",
        "    results.append((depth if depth is not None else 'None', acc))\n",
        "    print(f\"{str(depth):>10} | {acc:.4f}\")\n",
        "\n",
        "# Optional: Plot\n",
        "depth_labels = [str(d) for d, _ in results]\n",
        "accuracies = [acc for _, acc in results]\n",
        "\n",
        "plt.figure(figsize=(8,5))\n",
        "plt.plot(depth_labels, accuracies, marker='o')\n",
        "plt.title(\"Effect of max_depth on Random Forest Accuracy\")\n",
        "plt.xlabel(\"max_depth\")\n",
        "plt.ylabel(\"Accuracy\")\n",
        "plt.grid(True)\n",
        "plt.show()"
      ],
      "metadata": {
        "colab": {
          "base_uri": "https://localhost:8080/",
          "height": 626
        },
        "id": "KIiB0tjESqQ4",
        "outputId": "31af9986-71f0-4582-89dd-c85e52a00225"
      },
      "execution_count": 21,
      "outputs": [
        {
          "output_type": "stream",
          "name": "stdout",
          "text": [
            " max_depth | Accuracy\n",
            "-------------------------\n",
            "      None | 1.0000\n",
            "         1 | 1.0000\n",
            "         2 | 1.0000\n",
            "         3 | 1.0000\n",
            "         5 | 1.0000\n",
            "        10 | 1.0000\n"
          ]
        },
        {
          "output_type": "display_data",
          "data": {
            "text/plain": [
              "<Figure size 800x500 with 1 Axes>"
            ],
            "image/png": "[encoded data removed]"
          },
          "metadata": {}
        }
      ]
    },
    {
      "cell_type": "code",
      "source": [
        "# 40.  Train a Bagging Regressor using different base estimators (DecisionTree and KNeighbors) and compare performance.\n",
        "\n",
        "from sklearn.datasets import fetch_california_housing\n",
        "from sklearn.model_selection import train_test_split\n",
        "from sklearn.tree import DecisionTreeRegressor\n",
        "from sklearn.neighbors import KNeighborsRegressor\n",
        "from sklearn.ensemble import BaggingRegressor\n",
        "from sklearn.metrics import mean_squared_error, r2_score\n",
        "\n",
        "# Load dataset\n",
        "X, y = fetch_california_housing(return_X_y=True)\n",
        "\n",
        "# Train/test split\n",
        "X_train, X_test, y_train, y_test = train_test_split(\n",
        "    X, y, test_size=0.2, random_state=42\n",
        ")\n",
        "\n",
        "# Base estimators\n",
        "dt = DecisionTreeRegressor(random_state=42)\n",
        "knn = KNeighborsRegressor()\n",
        "\n",
        "# Bagging with Decision Tree\n",
        "bagging_dt = BaggingRegressor(\n",
        "    estimator=dt,\n",
        "    n_estimators=50,\n",
        "    max_samples=0.8,\n",
        "    bootstrap=True,\n",
        "    random_state=42,\n",
        "    n_jobs=-1\n",
        ")\n",
        "\n",
        "# Bagging with KNeighbors\n",
        "bagging_knn = BaggingRegressor(\n",
        "    estimator=knn,\n",
        "    n_estimators=50,\n",
        "    max_samples=0.8,\n",
        "    bootstrap=True,\n",
        "    random_state=42,\n",
        "    n_jobs=-1\n",
        ")\n",
        "\n",
        "models = {\n",
        "    \"Bagging + DecisionTree\": bagging_dt,\n",
        "    \"Bagging + KNeighbors\": bagging_knn\n",
        "}\n",
        "\n",
        "print(f\"{'Model':<25} | {'MSE':>10} | {'R²':>6}\")\n",
        "print(\"-\" * 45)\n",
        "\n",
        "for name, model in models.items():\n",
        "    model.fit(X_train, y_train)\n",
        "    y_pred = model.predict(X_test)\n",
        "    mse = mean_squared_error(y_test, y_pred)\n",
        "    r2 = r2_score(y_test, y_pred)\n",
        "    print(f\"{name:<25} | {mse:10.4f} | {r2:6.4f}\")"
      ],
      "metadata": {
        "colab": {
          "base_uri": "https://localhost:8080/"
        },
        "id": "Uw-VUSqnSyFp",
        "outputId": "f003aba7-4144-4b42-c732-c33dab279c72"
      },
      "execution_count": 22,
      "outputs": [
        {
          "output_type": "stream",
          "name": "stdout",
          "text": [
            "Model                     |        MSE |     R²\n",
            "---------------------------------------------\n",
            "Bagging + DecisionTree    |     0.2643 | 0.7983\n",
            "Bagging + KNeighbors      |     1.0754 | 0.1793\n"
          ]
        }
      ]
    },
    {
      "cell_type": "code",
      "source": [
        "# 41. Train a Random Forest Classifier and evaluate its performance using ROC-AUC Score.\n",
        "\n",
        "from sklearn.datasets import load_breast_cancer\n",
        "from sklearn.model_selection import train_test_split\n",
        "from sklearn.ensemble import RandomForestClassifier\n",
        "from sklearn.metrics import roc_auc_score\n",
        "\n",
        "# Load dataset\n",
        "X, y = load_breast_cancer(return_X_y=True)\n",
        "\n",
        "# Train/test split\n",
        "X_train, X_test, y_train, y_test = train_test_split(\n",
        "    X, y, test_size=0.2, random_state=42\n",
        ")\n",
        "\n",
        "# Train Random Forest\n",
        "rf_clf = RandomForestClassifier(\n",
        "    n_estimators=100,\n",
        "    random_state=42\n",
        ")\n",
        "rf_clf.fit(X_train, y_train)\n",
        "\n",
        "# Predict probabilities\n",
        "y_proba = rf_clf.predict_proba(X_test)[:, 1]  # probability of positive class\n",
        "\n",
        "# Compute ROC-AUC\n",
        "roc_auc = roc_auc_score(y_test, y_proba)\n",
        "\n",
        "print(f\"Random Forest ROC-AUC Score: {roc_auc:.4f}\")"
      ],
      "metadata": {
        "colab": {
          "base_uri": "https://localhost:8080/"
        },
        "id": "2Js3Nr5cS-Gg",
        "outputId": "3b70a7eb-8b07-4abf-9dc9-267060b8f8ae"
      },
      "execution_count": 23,
      "outputs": [
        {
          "output_type": "stream",
          "name": "stdout",
          "text": [
            "Random Forest ROC-AUC Score: 0.9953\n"
          ]
        }
      ]
    },
    {
      "cell_type": "code",
      "source": [
        "# 42. Train a Bagging Classifier and evaluate its performance using cross-validatio.\n",
        "\n",
        "from sklearn.datasets import load_iris\n",
        "from sklearn.ensemble import BaggingClassifier\n",
        "from sklearn.tree import DecisionTreeClassifier\n",
        "from sklearn.model_selection import cross_val_score\n",
        "import numpy as np\n",
        "\n",
        "# Load dataset\n",
        "X, y = load_iris(return_X_y=True)\n",
        "\n",
        "# Define Bagging Classifier\n",
        "bagging_clf = BaggingClassifier(\n",
        "    estimator=DecisionTreeClassifier(),\n",
        "    n_estimators=50,\n",
        "    max_samples=0.8,\n",
        "    bootstrap=True,\n",
        "    random_state=42,\n",
        "    n_jobs=-1\n",
        ")\n",
        "\n",
        "# Perform cross-validation\n",
        "cv_scores = cross_val_score(\n",
        "    bagging_clf, X, y,\n",
        "    cv=5,             # 5-fold CV\n",
        "    scoring='accuracy',\n",
        "    n_jobs=-1\n",
        ")\n",
        "\n",
        "print(f\"Cross-Validation Scores: {cv_scores}\")\n",
        "print(f\"Mean Accuracy: {np.mean(cv_scores):.4f}\")\n",
        "print(f\"Std Deviation: {np.std(cv_scores):.4f}\")"
      ],
      "metadata": {
        "colab": {
          "base_uri": "https://localhost:8080/"
        },
        "id": "Bg2PRzqJTJNI",
        "outputId": "e49a919a-d101-49e8-c535-7af444b9d88e"
      },
      "execution_count": 24,
      "outputs": [
        {
          "output_type": "stream",
          "name": "stdout",
          "text": [
            "Cross-Validation Scores: [0.96666667 0.96666667 0.93333333 0.93333333 1.        ]\n",
            "Mean Accuracy: 0.9600\n",
            "Std Deviation: 0.0249\n"
          ]
        }
      ]
    },
    {
      "cell_type": "code",
      "source": [
        "# 43. Train a Random Forest Classifier and plot the Precision-Recall curve.\n",
        "\n",
        "from sklearn.datasets import load_breast_cancer\n",
        "from sklearn.model_selection import train_test_split\n",
        "from sklearn.ensemble import RandomForestClassifier\n",
        "from sklearn.metrics import precision_recall_curve, average_precision_score\n",
        "import matplotlib.pyplot as plt\n",
        "\n",
        "# Load dataset\n",
        "X, y = load_breast_cancer(return_X_y=True)\n",
        "\n",
        "# Train/test split\n",
        "X_train, X_test, y_train, y_test = train_test_split(\n",
        "    X, y, test_size=0.2, random_state=42\n",
        ")\n",
        "\n",
        "# Train Random Forest\n",
        "rf_clf = RandomForestClassifier(\n",
        "    n_estimators=100,\n",
        "    random_state=42\n",
        ")\n",
        "rf_clf.fit(X_train, y_train)\n",
        "\n",
        "# Predict probabilities\n",
        "y_proba = rf_clf.predict_proba(X_test)[:, 1]  # probability of positive class\n",
        "\n",
        "# Compute precision-recall curve\n",
        "precision, recall, thresholds = precision_recall_curve(y_test, y_proba)\n",
        "avg_prec = average_precision_score(y_test, y_proba)\n",
        "\n",
        "# Plot\n",
        "plt.figure(figsize=(7, 5))\n",
        "plt.plot(recall, precision, label=f\"AP = {avg_prec:.4f}\")\n",
        "plt.xlabel(\"Recall\")\n",
        "plt.ylabel(\"Precision\")\n",
        "plt.title(\"Precision–Recall Curve (Random Forest)\")\n",
        "plt.legend()\n",
        "plt.grid()\n",
        "plt.show()\n"
      ],
      "metadata": {
        "colab": {
          "base_uri": "https://localhost:8080/",
          "height": 487
        },
        "id": "0T94-ukvTSY_",
        "outputId": "b657759c-6c79-4d6c-f38d-0b2446fae36b"
      },
      "execution_count": 25,
      "outputs": [
        {
          "output_type": "display_data",
          "data": {
            "text/plain": [
              "<Figure size 700x500 with 1 Axes>"
            ],
            "image/png": "[encoded data removed]"
          },
          "metadata": {}
        }
      ]
    },
    {
      "cell_type": "code",
      "source": [
        "# 44. Train a Stacking Classifier with Random Forest and Logistic Regression and compare accuracy.\n",
        "\n",
        "from sklearn.datasets import load_iris\n",
        "from sklearn.model_selection import train_test_split\n",
        "from sklearn.ensemble import RandomForestClassifier, StackingClassifier\n",
        "from sklearn.linear_model import LogisticRegression\n",
        "from sklearn.metrics import accuracy_score\n",
        "\n",
        "# Load dataset\n",
        "X, y = load_iris(return_X_y=True)\n",
        "\n",
        "# Split train/test\n",
        "X_train, X_test, y_train, y_test = train_test_split(\n",
        "    X, y, test_size=0.2, random_state=42\n",
        ")\n",
        "\n",
        "# Define base learners\n",
        "rf_clf = RandomForestClassifier(\n",
        "    n_estimators=100, random_state=42\n",
        ")\n",
        "\n",
        "logreg_clf = LogisticRegression(\n",
        "    max_iter=500, random_state=42\n",
        ")\n",
        "\n",
        "# Define stacking classifier\n",
        "stacking_clf = StackingClassifier(\n",
        "    estimators=[\n",
        "        ('rf', rf_clf),\n",
        "        ('lr', logreg_clf)\n",
        "    ],\n",
        "    final_estimator=LogisticRegression(max_iter=500, random_state=42),\n",
        "    cv=5,\n",
        "    n_jobs=-1\n",
        ")\n",
        "\n",
        "# Fit and evaluate each model\n",
        "models = {\n",
        "    \"Random Forest\": rf_clf,\n",
        "    \"Logistic Regression\": logreg_clf,\n",
        "    \"Stacking Classifier\": stacking_clf\n",
        "}\n",
        "\n",
        "print(f\"{'Model':<25} | {'Accuracy'}\")\n",
        "print(\"-\" * 40)\n",
        "\n",
        "for name, model in models.items():\n",
        "    model.fit(X_train, y_train)\n",
        "    y_pred = model.predict(X_test)\n",
        "    acc = accuracy_score(y_test, y_pred)\n",
        "    print(f\"{name:<25} | {acc:.4f}\")"
      ],
      "metadata": {
        "colab": {
          "base_uri": "https://localhost:8080/"
        },
        "id": "uMRNrDYjTgd6",
        "outputId": "988331e9-5db0-41ca-856c-abf32140a244"
      },
      "execution_count": 26,
      "outputs": [
        {
          "output_type": "stream",
          "name": "stdout",
          "text": [
            "Model                     | Accuracy\n",
            "----------------------------------------\n",
            "Random Forest             | 1.0000\n",
            "Logistic Regression       | 1.0000\n",
            "Stacking Classifier       | 1.0000\n"
          ]
        }
      ]
    },
    {
      "cell_type": "code",
      "source": [
        "# 45. Train a Bagging Regressor with different levels of bootstrap samples and compare performance.\n",
        "\n",
        "from sklearn.datasets import fetch_california_housing\n",
        "from sklearn.model_selection import train_test_split\n",
        "from sklearn.ensemble import BaggingRegressor\n",
        "from sklearn.tree import DecisionTreeRegressor\n",
        "from sklearn.metrics import mean_squared_error, r2_score\n",
        "\n",
        "import numpy as np\n",
        "\n",
        "# Load dataset\n",
        "X, y = fetch_california_housing(return_X_y=True)\n",
        "\n",
        "# Split train/test\n",
        "X_train, X_test, y_train, y_test = train_test_split(\n",
        "    X, y, test_size=0.2, random_state=42\n",
        ")\n",
        "\n",
        "# Different bootstrap sample sizes to try\n",
        "max_samples_list = [0.4, 0.6, 0.8, 1.0]\n",
        "\n",
        "print(f\"{'max_samples':>12} | {'MSE':>10} | {'R²':>6}\")\n",
        "print(\"-\" * 35)\n",
        "\n",
        "for max_samples in max_samples_list:\n",
        "    bagging_reg = BaggingRegressor(\n",
        "        estimator=DecisionTreeRegressor(),\n",
        "        n_estimators=50,\n",
        "        max_samples=max_samples,\n",
        "        bootstrap=True,\n",
        "        random_state=42,\n",
        "        n_jobs=-1\n",
        "    )\n",
        "    bagging_reg.fit(X_train, y_train)\n",
        "    y_pred = bagging_reg.predict(X_test)\n",
        "\n",
        "    mse = mean_squared_error(y_test, y_pred)\n",
        "    r2 = r2_score(y_test, y_pred)\n",
        "\n",
        "    print(f\"{max_samples:12.2f} | {mse:10.4f} | {r2:6.4f}\")"
      ],
      "metadata": {
        "colab": {
          "base_uri": "https://localhost:8080/"
        },
        "id": "631oz4xGTsTz",
        "outputId": "46ed98db-cfc2-404f-a0ec-2eb497e3135a"
      },
      "execution_count": 27,
      "outputs": [
        {
          "output_type": "stream",
          "name": "stdout",
          "text": [
            " max_samples |        MSE |     R²\n",
            "-----------------------------------\n",
            "        0.40 |     0.2718 | 0.7926\n",
            "        0.60 |     0.2644 | 0.7982\n",
            "        0.80 |     0.2643 | 0.7983\n",
            "        1.00 |     0.2573 | 0.8036\n"
          ]
        }
      ]
    },
    {
      "cell_type": "code",
      "source": [],
      "metadata": {
        "id": "GNknRzWJT5Fs"
      },
      "execution_count": null,
      "outputs": []
    }
  ]
}